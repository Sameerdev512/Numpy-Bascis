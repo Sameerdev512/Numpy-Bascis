{
  "nbformat": 4,
  "nbformat_minor": 0,
  "metadata": {
    "colab": {
      "provenance": [],
      "toc_visible": true,
      "authorship_tag": "ABX9TyPo2emqiqvC+3asP4BBsW44",
      "include_colab_link": true
    },
    "kernelspec": {
      "name": "python3",
      "display_name": "Python 3"
    },
    "language_info": {
      "name": "python"
    }
  },
  "cells": [
    {
      "cell_type": "markdown",
      "metadata": {
        "id": "view-in-github",
        "colab_type": "text"
      },
      "source": [
        "<a href=\"https://colab.research.google.com/github/Sameerdev512/Numpy-Bascis/blob/main/ML_Day1_Numpy.ipynb\" target=\"_parent\"><img src=\"https://colab.research.google.com/assets/colab-badge.svg\" alt=\"Open In Colab\"/></a>"
      ]
    },
    {
      "cell_type": "code",
      "execution_count": null,
      "metadata": {
        "colab": {
          "base_uri": "https://localhost:8080/"
        },
        "id": "UZvFsG_Zqv8w",
        "outputId": "76f203b1-e945-43c0-d51d-36b25aa8ca1e"
      },
      "outputs": [
        {
          "output_type": "stream",
          "name": "stdout",
          "text": [
            "[1 2 3 4 5]\n"
          ]
        }
      ],
      "source": [
        "# 1. Write a NumPy program to create a 1D array from a list [1, 2, 3, 4, 5].\n",
        "import numpy as np\n",
        "\n",
        "# Create a list\n",
        "my_list = [1, 2, 3, 4, 5]\n",
        "\n",
        "# Convert list to NumPy array\n",
        "array = np.array(my_list)\n",
        "\n",
        "# Print the array\n",
        "print(array)\n"
      ]
    },
    {
      "cell_type": "code",
      "source": [
        "#2. Create a NumPy array of shape (3, 3) filled with zeros.\n",
        "import numpy as np\n",
        "\n",
        "arr = np.array([[0,0,0],[0,0,0],[0,0,0]])\n",
        "\n",
        "print(arr)\n",
        "print(arr.shape)"
      ],
      "metadata": {
        "colab": {
          "base_uri": "https://localhost:8080/"
        },
        "id": "S0JSewiGnrOV",
        "outputId": "d2c09859-23b1-4866-9f78-ac8746ff1f30"
      },
      "execution_count": null,
      "outputs": [
        {
          "output_type": "stream",
          "name": "stdout",
          "text": [
            "[[0 0 0]\n",
            " [0 0 0]\n",
            " [0 0 0]]\n",
            "(3, 3)\n"
          ]
        }
      ]
    },
    {
      "cell_type": "code",
      "source": [
        "#3. Create a NumPy array of shape (2, 4) filled with ones.\n",
        "import numpy as np\n",
        "\n",
        "list = [0,0,0,0]\n",
        "\n",
        "arr = np.array([list,list])\n",
        "print(arr)\n",
        "print(arr.shape)"
      ],
      "metadata": {
        "colab": {
          "base_uri": "https://localhost:8080/"
        },
        "id": "DJtVjb27rxH9",
        "outputId": "03d20eb3-776d-4783-b560-d645fe9e9789"
      },
      "execution_count": null,
      "outputs": [
        {
          "output_type": "stream",
          "name": "stdout",
          "text": [
            "[[0 0 0 0]\n",
            " [0 0 0 0]]\n",
            "(2, 4)\n"
          ]
        }
      ]
    },
    {
      "cell_type": "code",
      "source": [
        "#2. Create a NumPy array of shape (3, 3) filled with zeros.\n",
        "#3. Create a NumPy array of shape (2, 4) filled with ones.\n",
        "import numpy as np\n",
        "\n",
        "arr = np.zeros((3,3))\n",
        "print(arr)\n",
        "print(arr.shape)\n",
        "\n",
        "arr2 = np.ones((2,4))\n",
        "print(arr2)\n",
        "print(arr.shape)"
      ],
      "metadata": {
        "colab": {
          "base_uri": "https://localhost:8080/"
        },
        "id": "oDEGMVYPsbM-",
        "outputId": "6f1385e9-4cea-4eb8-d1dd-8b5c58ec7e2e"
      },
      "execution_count": null,
      "outputs": [
        {
          "output_type": "stream",
          "name": "stdout",
          "text": [
            "[[0. 0. 0.]\n",
            " [0. 0. 0.]\n",
            " [0. 0. 0.]]\n",
            "(3, 3)\n",
            "[[1. 1. 1. 1.]\n",
            " [1. 1. 1. 1.]]\n",
            "(3, 3)\n"
          ]
        }
      ]
    },
    {
      "cell_type": "code",
      "source": [
        "#4. Generate an array of numbers from 10 to 50 with a step of 5.\n",
        "# Not including 50\n",
        "arr = np.arange(10,50,5)\n",
        "\n",
        "print(arr)"
      ],
      "metadata": {
        "id": "xcbs0eo3s5Y4",
        "colab": {
          "base_uri": "https://localhost:8080/"
        },
        "outputId": "05366db3-19c9-4520-dbba-787c235b051a"
      },
      "execution_count": null,
      "outputs": [
        {
          "output_type": "stream",
          "name": "stdout",
          "text": [
            "[10 15 20 25 30 35 40 45]\n"
          ]
        }
      ]
    },
    {
      "cell_type": "code",
      "source": [
        "#5. Create an array of 10 evenly spaced values between 0 and 1.\n",
        "import numpy as np\n",
        "\n",
        "# Generate 10 numbers between 0 and 1\n",
        "# endpoint = true will include 1\n",
        "# endpoint = false will not include 1\n",
        "array_without_endpoint = np.linspace(0, 1, num=10, endpoint=False)\n",
        "\n",
        "print(array_without_endpoint)\n"
      ],
      "metadata": {
        "colab": {
          "base_uri": "https://localhost:8080/"
        },
        "id": "cq-L2xtQb77T",
        "outputId": "86edec9f-35f9-4766-b816-96313737452b"
      },
      "execution_count": null,
      "outputs": [
        {
          "output_type": "stream",
          "name": "stdout",
          "text": [
            "[0.  0.1 0.2 0.3 0.4 0.5 0.6 0.7 0.8 0.9]\n"
          ]
        }
      ]
    },
    {
      "cell_type": "code",
      "source": [
        "#6. Generate a 5x5 identity matrix.\n",
        "import numpy as np\n",
        "\n",
        "matrix = np.ones((5,5))\n",
        "print(matrix)"
      ],
      "metadata": {
        "colab": {
          "base_uri": "https://localhost:8080/"
        },
        "id": "XxPTXybx9gyl",
        "outputId": "ce37acb8-0b21-4717-90d8-341e0e2fd969"
      },
      "execution_count": null,
      "outputs": [
        {
          "output_type": "stream",
          "name": "stdout",
          "text": [
            "[[1. 1. 1. 1. 1.]\n",
            " [1. 1. 1. 1. 1.]\n",
            " [1. 1. 1. 1. 1.]\n",
            " [1. 1. 1. 1. 1.]\n",
            " [1. 1. 1. 1. 1.]]\n"
          ]
        }
      ]
    },
    {
      "cell_type": "code",
      "source": [
        "#7. Create an array of shape (3,3) with random values between 0 and 1.\n",
        "import numpy as np\n",
        "\n",
        "# 1st argument --> numbers ranging from 0 to 1,\n",
        "# 2nd argument, row = 3, col = 3\n",
        "array = np.random.randint(2, size=(3, 3))\n",
        "print(array)"
      ],
      "metadata": {
        "colab": {
          "base_uri": "https://localhost:8080/"
        },
        "id": "IxVpQCvO9-T-",
        "outputId": "fcf2b25a-e0c4-4e13-dd86-140f72266bd2"
      },
      "execution_count": null,
      "outputs": [
        {
          "output_type": "stream",
          "name": "stdout",
          "text": [
            "[[0 1 0]\n",
            " [1 1 1]\n",
            " [1 1 0]]\n"
          ]
        }
      ]
    },
    {
      "cell_type": "code",
      "source": [
        "#8. Convert a Python list [10, 20, 30] into a NumPy array and print its type.\n",
        "import numpy as np\n",
        "list = [4,8,5,2]\n",
        "\n",
        "arr = np.array(list)\n",
        "print(arr)"
      ],
      "metadata": {
        "colab": {
          "base_uri": "https://localhost:8080/"
        },
        "id": "9OzW0DKB-xwz",
        "outputId": "1905785a-661d-4527-8fc9-7b999068706d"
      },
      "execution_count": null,
      "outputs": [
        {
          "output_type": "stream",
          "name": "stdout",
          "text": [
            "[4 8 5 2]\n"
          ]
        }
      ]
    },
    {
      "cell_type": "code",
      "source": [
        "#9. Create an array of 10 random integers between 1 and 100.\n",
        "import numpy as np\n",
        "\n",
        "arr = np.random.randint(1,100,(10))\n",
        "print(arr)"
      ],
      "metadata": {
        "colab": {
          "base_uri": "https://localhost:8080/"
        },
        "id": "oGcrat27_PmN",
        "outputId": "1c9cdaf4-5897-4e0d-8fa2-d594210cbecd"
      },
      "execution_count": null,
      "outputs": [
        {
          "output_type": "stream",
          "name": "stdout",
          "text": [
            "[67 91 82 82 83 50 59 22 31 45]\n"
          ]
        }
      ]
    },
    {
      "cell_type": "code",
      "source": [
        "#10. Generate a 4x4 array with random floating-point numbers.\n",
        "import numpy as np\n",
        "\n",
        "arr = np.random.uniform(1,100,(4,4))\n",
        "print(arr)"
      ],
      "metadata": {
        "colab": {
          "base_uri": "https://localhost:8080/"
        },
        "id": "UQ4uUHSC_h8-",
        "outputId": "ca60ddc1-8122-44f9-e497-e6a4a6bea279"
      },
      "execution_count": null,
      "outputs": [
        {
          "output_type": "stream",
          "name": "stdout",
          "text": [
            "[[ 8.89605331 64.06958833 72.88327652 78.53363601]\n",
            " [15.5704975  91.62926006 98.72989935 80.70580611]\n",
            " [84.28067975 14.86229807 71.70531207 76.21531707]\n",
            " [41.17374726 49.78689918 36.75323285 52.97583074]]\n"
          ]
        }
      ]
    },
    {
      "cell_type": "markdown",
      "source": [
        "#Array Manipulation\n",
        "\n",
        "\n",
        "\n"
      ],
      "metadata": {
        "id": "3zcvxYelATm_"
      }
    },
    {
      "cell_type": "code",
      "source": [
        "#11. Reshape a 1D array of 9 elements into a 3x3 matrix.\n",
        "import numpy as np\n",
        "\n",
        "arr = [1,2,3,4,5,6,7,8,9]\n",
        "matrix = np.reshape(arr,(3,3))\n",
        "print(matrix)"
      ],
      "metadata": {
        "colab": {
          "base_uri": "https://localhost:8080/"
        },
        "id": "hsXE7G5UBQ9i",
        "outputId": "69debaa5-fd96-4d19-edcc-147b92f6243b"
      },
      "execution_count": null,
      "outputs": [
        {
          "output_type": "stream",
          "name": "stdout",
          "text": [
            "[[1 2 3]\n",
            " [4 5 6]\n",
            " [7 8 9]]\n"
          ]
        }
      ]
    },
    {
      "cell_type": "code",
      "source": [
        "#12. Flatten a 2D NumPy array into a 1D array.\n",
        "ini_array1 = np.array([[1, 2, 3], [2, 4, 5], [1, 2, 3]])\n",
        "\n",
        "# printing initial arrays\n",
        "print(\"initial array\", str(ini_array1))\n",
        "\n",
        "# using reshape method\n",
        "# result = np.reshape(ini_array1,(9))\n",
        "\n",
        "#using flatten method\n",
        "result = ini_array1.flatten();\n",
        "\n",
        "# printing result\n",
        "print(\"New resulting array: \", result)"
      ],
      "metadata": {
        "colab": {
          "base_uri": "https://localhost:8080/"
        },
        "id": "Pcc-cKJ5BIoH",
        "outputId": "738203fd-a497-447b-fb80-b13d79ada54a"
      },
      "execution_count": null,
      "outputs": [
        {
          "output_type": "stream",
          "name": "stdout",
          "text": [
            "initial array [[1 2 3]\n",
            " [2 4 5]\n",
            " [1 2 3]]\n",
            "New resulting array:  [1 2 3 2 4 5 1 2 3]\n"
          ]
        }
      ]
    },
    {
      "cell_type": "code",
      "source": [
        "#13. Stack two NumPy arrays vertically.\n",
        "arr1 = [1,2,3]\n",
        "arr2 = [4,5,6]\n",
        "\n",
        "#arrange vertically row-wise\n",
        "result = np.vstack((arr1,arr2))\n",
        "print(result)\n"
      ],
      "metadata": {
        "colab": {
          "base_uri": "https://localhost:8080/"
        },
        "id": "ahitzoVcEPtp",
        "outputId": "b98e842b-755a-4804-a251-69428feb2c96"
      },
      "execution_count": null,
      "outputs": [
        {
          "output_type": "stream",
          "name": "stdout",
          "text": [
            "[[1 2 3]\n",
            " [4 5 6]]\n"
          ]
        }
      ]
    },
    {
      "cell_type": "markdown",
      "source": [],
      "metadata": {
        "id": "l9Nx23CbEl1Y"
      }
    },
    {
      "cell_type": "code",
      "source": [
        "#14. Stack two NumPy arrays horizontally.\n",
        "arr1 = [1,2,3]\n",
        "arr2 = [4,5,6]\n",
        "\n",
        "#arrange horizontally column-wise\n",
        "result = np.hstack((arr1,arr2))\n",
        "print(result)\n"
      ],
      "metadata": {
        "colab": {
          "base_uri": "https://localhost:8080/"
        },
        "id": "iogZNuP2EmOU",
        "outputId": "ad74beeb-8f19-4a67-dc7f-bc841cf95c1a"
      },
      "execution_count": null,
      "outputs": [
        {
          "output_type": "stream",
          "name": "stdout",
          "text": [
            "[1 2 3 4 5 6]\n"
          ]
        }
      ]
    },
    {
      "cell_type": "code",
      "source": [
        "#15. Concatenate two 1D NumPy arrays.\n",
        "arr1 = [1,2,3]\n",
        "arr2 = [4,5,6]\n",
        "\n",
        "result = np.concatenate((arr1,arr2))\n",
        "print(result)\n"
      ],
      "metadata": {
        "colab": {
          "base_uri": "https://localhost:8080/"
        },
        "id": "c3m9rwpsFTZ7",
        "outputId": "9132ffaf-5890-4f3d-9d5d-2c3635e99303"
      },
      "execution_count": null,
      "outputs": [
        {
          "output_type": "stream",
          "name": "stdout",
          "text": [
            "[1 2 3 4 5 6]\n"
          ]
        }
      ]
    },
    {
      "cell_type": "code",
      "source": [
        "#16. Split an array [1,2,3,4,5,6] into three equal parts.\n",
        "arr = np.array([1,2,3,4,5,6])\n",
        "\n",
        "splited_arr = np.split(arr,3)\n",
        "print(splited_arr)\n"
      ],
      "metadata": {
        "colab": {
          "base_uri": "https://localhost:8080/"
        },
        "id": "ukPNFWADFujd",
        "outputId": "e98404bc-2ea2-4dea-8101-9e1375b6350d"
      },
      "execution_count": null,
      "outputs": [
        {
          "output_type": "stream",
          "name": "stdout",
          "text": [
            "[array([1, 2]), array([3, 4]), array([5, 6])]\n"
          ]
        }
      ]
    },
    {
      "cell_type": "code",
      "source": [
        "#17. Change the data type of a NumPy array from float to int.\n",
        "arr = np.array([1,2,3,4])\n",
        "\n",
        "print(\"initial type - \", arr.dtype)\n",
        "\n",
        "#changing type int to float\n",
        "array_float = arr.astype(float)\n",
        "\n",
        "print(array_float)\n",
        "print(\"final type - \",array_float.dtype)"
      ],
      "metadata": {
        "colab": {
          "base_uri": "https://localhost:8080/"
        },
        "id": "cyKKqglOGHHp",
        "outputId": "84df4650-1cb3-4e5e-c370-58afd1b25900"
      },
      "execution_count": null,
      "outputs": [
        {
          "output_type": "stream",
          "name": "stdout",
          "text": [
            "initial type -  int64\n",
            "[1. 2. 3. 4.]\n",
            "final type -  float64\n"
          ]
        }
      ]
    },
    {
      "cell_type": "code",
      "source": [
        "#18. Reverse a NumPy array.\n",
        "arr = [1,2,3,4,5]\n",
        "\n",
        "result = arr[::-1]\n",
        "print(result)"
      ],
      "metadata": {
        "colab": {
          "base_uri": "https://localhost:8080/"
        },
        "id": "wIb3dqVDGdRE",
        "outputId": "2c5517e1-6cf9-452d-f110-8ab1191ef95c"
      },
      "execution_count": null,
      "outputs": [
        {
          "output_type": "stream",
          "name": "stdout",
          "text": [
            "[5, 4, 3, 2, 1]\n"
          ]
        }
      ]
    },
    {
      "cell_type": "code",
      "source": [
        "#19. Find the shape and size of a given NumPy array.\n",
        "arr = np.array([[1, 2, 3], [4, 5, 6]])\n",
        "\n",
        "print(\"size = \" , arr.size ,\" and shape = \",arr.shape)\n"
      ],
      "metadata": {
        "colab": {
          "base_uri": "https://localhost:8080/"
        },
        "id": "stR7JPM-HYuS",
        "outputId": "91c25e77-1093-48a7-fa74-8ec8c96a2aac"
      },
      "execution_count": null,
      "outputs": [
        {
          "output_type": "stream",
          "name": "stdout",
          "text": [
            "size =  6  and shape =  (2, 3)\n"
          ]
        }
      ]
    },
    {
      "cell_type": "code",
      "source": [
        "#20. Create an array and find its transpose.\n",
        "\n",
        "arr = np.array([[1,2,3],[4,5,6],[7,8,9]])\n",
        "\n",
        "result = arr.T\n",
        "\n",
        "print(result)\n"
      ],
      "metadata": {
        "colab": {
          "base_uri": "https://localhost:8080/"
        },
        "id": "fHxqFh2HHZvF",
        "outputId": "38f79388-7283-4f47-f6fc-58ddc03ede0d"
      },
      "execution_count": null,
      "outputs": [
        {
          "output_type": "stream",
          "name": "stdout",
          "text": [
            "[[1 4 7]\n",
            " [2 5 8]\n",
            " [3 6 9]]\n"
          ]
        }
      ]
    },
    {
      "cell_type": "markdown",
      "source": [
        "#Mathematical Operation\n"
      ],
      "metadata": {
        "id": "HHpLGpwT1tJ3"
      }
    },
    {
      "cell_type": "code",
      "source": [
        "#21. Add two NumPy arrays element-wise.\n",
        "import numpy as np\n",
        "arr1 = np.array([1,2,3])\n",
        "arr2 = np.array([4,5,6])\n",
        "\n",
        "result = np.add(arr1,arr2)\n",
        "print(result)"
      ],
      "metadata": {
        "colab": {
          "base_uri": "https://localhost:8080/"
        },
        "id": "ttEo8bFz1yGE",
        "outputId": "dade8c17-b186-479c-f052-de67e6e8b7d1"
      },
      "execution_count": 2,
      "outputs": [
        {
          "output_type": "stream",
          "name": "stdout",
          "text": [
            "[5 7 9]\n"
          ]
        }
      ]
    },
    {
      "cell_type": "code",
      "source": [
        "#22. Subtract two NumPy arrays element-wise.\n",
        "import numpy as np\n",
        "arr1 = np.array([1,2,3])\n",
        "arr2 = np.array([4,5,6])\n",
        "\n",
        "result = np.subtract(arr1,arr2)\n",
        "print(result)"
      ],
      "metadata": {
        "colab": {
          "base_uri": "https://localhost:8080/"
        },
        "id": "aaR2WsSW2OXR",
        "outputId": "f58c4639-0b2c-417a-b89c-ea6507f00409"
      },
      "execution_count": 4,
      "outputs": [
        {
          "output_type": "stream",
          "name": "stdout",
          "text": [
            "[-3 -3 -3]\n"
          ]
        }
      ]
    },
    {
      "cell_type": "code",
      "source": [
        "#23. Multiply two NumPy arrays element-wise.\n",
        "import numpy as np\n",
        "arr1 = np.array([1,2,3])\n",
        "arr2 = np.array([4,5,6])\n",
        "\n",
        "result = np.multiply(arr1,arr2)\n",
        "print(result)"
      ],
      "metadata": {
        "colab": {
          "base_uri": "https://localhost:8080/"
        },
        "id": "0b_2aVvr2g9m",
        "outputId": "185b34f9-d0ec-4f5b-b02f-4b8808996501"
      },
      "execution_count": 5,
      "outputs": [
        {
          "output_type": "stream",
          "name": "stdout",
          "text": [
            "[ 4 10 18]\n"
          ]
        }
      ]
    },
    {
      "cell_type": "code",
      "source": [
        "#23. Divide two NumPy arrays element-wise.\n",
        "import numpy as np\n",
        "arr1 = np.array([1,2,3])\n",
        "arr2 = np.array([4,5,6])\n",
        "\n",
        "result = np.divide(arr1,arr2)\n",
        "print(result)"
      ],
      "metadata": {
        "colab": {
          "base_uri": "https://localhost:8080/"
        },
        "id": "sQSplulB2rdG",
        "outputId": "e875539c-c632-41b5-ffd7-abcf8c4caf8e"
      },
      "execution_count": 9,
      "outputs": [
        {
          "output_type": "stream",
          "name": "stdout",
          "text": [
            "[0.25 0.4  0.5 ]\n"
          ]
        }
      ]
    },
    {
      "cell_type": "code",
      "source": [
        "#25. Compute the dot product of two matrices.\n",
        "arr1 = np.array([1,2,3])\n",
        "arr2 = np.array([4,5,6])\n",
        "\n",
        "result = np.dot(arr1,arr2)\n",
        "print(result)"
      ],
      "metadata": {
        "colab": {
          "base_uri": "https://localhost:8080/"
        },
        "id": "ZqRAS8tI21mp",
        "outputId": "76363916-6a81-44c0-e56e-d7de2f4c276e"
      },
      "execution_count": 7,
      "outputs": [
        {
          "output_type": "stream",
          "name": "stdout",
          "text": [
            "32\n"
          ]
        }
      ]
    },
    {
      "cell_type": "code",
      "source": [
        "#26. Find the sum of all elements in a NumPy array.\n",
        "arr = np.array([1,2,3])\n",
        "\n",
        "result = np.sum(arr)\n",
        "print(result)"
      ],
      "metadata": {
        "colab": {
          "base_uri": "https://localhost:8080/"
        },
        "id": "8wfyKJ3y4AzA",
        "outputId": "5827d881-deb4-4c57-fe72-0f4a804d4073"
      },
      "execution_count": 10,
      "outputs": [
        {
          "output_type": "stream",
          "name": "stdout",
          "text": [
            "6\n"
          ]
        }
      ]
    },
    {
      "cell_type": "code",
      "source": [
        "#27. Compute the mean of a NumPy array.\n",
        "arr = np.array([1,2,3])\n",
        "\n",
        "result = np.mean(arr)\n",
        "print(result)"
      ],
      "metadata": {
        "colab": {
          "base_uri": "https://localhost:8080/"
        },
        "id": "3S9SWQc84QnT",
        "outputId": "9f6b6d45-34eb-4ba0-d16d-c6e21f605e29"
      },
      "execution_count": 11,
      "outputs": [
        {
          "output_type": "stream",
          "name": "stdout",
          "text": [
            "2.0\n"
          ]
        }
      ]
    },
    {
      "cell_type": "code",
      "source": [
        "#28. Compute the median of a NumPy array.\n",
        "arr = np.array([1,2,3,4,5,6])\n",
        "\n",
        "result = np.median(arr)\n",
        "print(result)"
      ],
      "metadata": {
        "colab": {
          "base_uri": "https://localhost:8080/"
        },
        "id": "vIp7Lj8r4myS",
        "outputId": "36c99f1c-a06c-4758-a7dc-4e8ab0ca637a"
      },
      "execution_count": 14,
      "outputs": [
        {
          "output_type": "stream",
          "name": "stdout",
          "text": [
            "3.5\n"
          ]
        }
      ]
    },
    {
      "cell_type": "code",
      "source": [
        "#29. Compute the standard deviation of a NumPy array.\n",
        "arr = np.array([1,2,3,4,5,6])\n",
        "\n",
        "result = np.std(arr)\n",
        "print(result)"
      ],
      "metadata": {
        "colab": {
          "base_uri": "https://localhost:8080/"
        },
        "id": "hAMq3zcg5NvJ",
        "outputId": "afc9de72-a41b-4651-9409-2dd1ad88c5a2"
      },
      "execution_count": 15,
      "outputs": [
        {
          "output_type": "stream",
          "name": "stdout",
          "text": [
            "1.707825127659933\n"
          ]
        }
      ]
    },
    {
      "cell_type": "code",
      "source": [
        "#30. Compute the variance of a NumPy array.\n",
        "arr = np.array([1,2,3,4,5,6])\n",
        "\n",
        "result = np.var(arr)\n",
        "print(result)"
      ],
      "metadata": {
        "colab": {
          "base_uri": "https://localhost:8080/"
        },
        "id": "_NkEERsX5XqS",
        "outputId": "9c7fc56d-4be0-43fb-92cd-bf7921234c5b"
      },
      "execution_count": 16,
      "outputs": [
        {
          "output_type": "stream",
          "name": "stdout",
          "text": [
            "2.9166666666666665\n"
          ]
        }
      ]
    },
    {
      "cell_type": "markdown",
      "source": [
        "#Indexing and Slicing\n"
      ],
      "metadata": {
        "id": "cZR9sIiO52mz"
      }
    },
    {
      "cell_type": "code",
      "source": [
        "#31.Extract the first row from a 2D NumPy array.\n",
        "import numpy as np\n",
        "arr = np.array([[1,2],[3,4]])\n",
        "print(arr)\n",
        "print(arr[0])"
      ],
      "metadata": {
        "colab": {
          "base_uri": "https://localhost:8080/"
        },
        "id": "z2BtDkoo50Fe",
        "outputId": "fc234c5f-5d4d-4657-d63c-837a1857ff28"
      },
      "execution_count": 20,
      "outputs": [
        {
          "output_type": "stream",
          "name": "stdout",
          "text": [
            "[[1 2]\n",
            " [3 4]]\n",
            "[2 4]\n"
          ]
        }
      ]
    },
    {
      "cell_type": "code",
      "source": [
        "#32.Extract the last column from a 2D NumPy array.\n",
        "import numpy as np\n",
        "arr = np.array([[1,2],[3,4]])\n",
        "print(arr)\n",
        "print(arr[:,-1])"
      ],
      "metadata": {
        "colab": {
          "base_uri": "https://localhost:8080/"
        },
        "id": "xlOVugbv75Hs",
        "outputId": "42f07fd0-5bd7-48a4-c0d0-171208a600e2"
      },
      "execution_count": 21,
      "outputs": [
        {
          "output_type": "stream",
          "name": "stdout",
          "text": [
            "[[1 2]\n",
            " [3 4]]\n",
            "[2 4]\n"
          ]
        }
      ]
    },
    {
      "cell_type": "code",
      "source": [
        "#33.Extract the all even numbers from a 2D NumPy array.\n",
        "import numpy as np\n",
        "arr = np.array([[1,2],[3,4]])\n",
        "print(arr)\n",
        "print(arr[arr % 2 ==0])"
      ],
      "metadata": {
        "colab": {
          "base_uri": "https://localhost:8080/"
        },
        "id": "W08GzV018zqQ",
        "outputId": "7ee6c5c1-db76-48c9-c7c3-31c47ae6eec5"
      },
      "execution_count": 22,
      "outputs": [
        {
          "output_type": "stream",
          "name": "stdout",
          "text": [
            "[[1 2]\n",
            " [3 4]]\n",
            "[2 4]\n"
          ]
        }
      ]
    },
    {
      "cell_type": "code",
      "source": [
        "#34. Replace all negative values in an array with zero.\n",
        "arr = np.array([[1,-2],[3,4]])\n",
        "print(arr)\n",
        "arr[arr < 0] = 0\n",
        "print(arr)"
      ],
      "metadata": {
        "colab": {
          "base_uri": "https://localhost:8080/"
        },
        "id": "E2LfDfeW9A6O",
        "outputId": "05f925a5-9f08-4d9e-bcd4-237a09e97b67"
      },
      "execution_count": 25,
      "outputs": [
        {
          "output_type": "stream",
          "name": "stdout",
          "text": [
            "[[ 1 -2]\n",
            " [ 3  4]]\n",
            "[[1 0]\n",
            " [3 4]]\n"
          ]
        }
      ]
    },
    {
      "cell_type": "code",
      "source": [
        "#35. Assign a new value to a specific index in a NumPy array.\n",
        "arr = np.array([[1,-2],[3,4]])\n",
        "arr[0][0] = 12\n",
        "print(arr)"
      ],
      "metadata": {
        "colab": {
          "base_uri": "https://localhost:8080/"
        },
        "id": "YlJCDC6P9gH3",
        "outputId": "03ded435-1c10-4754-c34a-c2721c25bc21"
      },
      "execution_count": 26,
      "outputs": [
        {
          "output_type": "stream",
          "name": "stdout",
          "text": [
            "[[12 -2]\n",
            " [ 3  4]]\n"
          ]
        }
      ]
    },
    {
      "cell_type": "code",
      "source": [
        "#36. Find the index of a specific value in a NumPy array.\n",
        "arr = np.array([1,2,3,4,3,5,6,7,8,9])\n",
        "\n",
        "#print all indexx where 3 is present\n",
        "result  = np.where(arr == 3)[0]\n",
        "\n",
        "#print only frost index where 3 occurs\n",
        "result2  = np.where(arr == 3)[0][0]\n",
        "\n",
        "print(result)\n",
        "print(result2)"
      ],
      "metadata": {
        "colab": {
          "base_uri": "https://localhost:8080/"
        },
        "id": "WRdm3e3X9qbz",
        "outputId": "88df38e5-3a0a-45d1-9bf0-876dc4840f46"
      },
      "execution_count": 38,
      "outputs": [
        {
          "output_type": "stream",
          "name": "stdout",
          "text": [
            "[2 4]\n",
            "2\n"
          ]
        }
      ]
    },
    {
      "cell_type": "code",
      "source": [
        "#37. Use boolean indexing to filter values greater than a given threshold.\n",
        "arr = np.array([1,2,3,4,5,6,7,8,9])\n",
        "\n",
        "threshold = 5\n",
        "\n",
        "result = arr[arr > threshold]\n",
        "\n",
        "print(result)"
      ],
      "metadata": {
        "colab": {
          "base_uri": "https://localhost:8080/"
        },
        "id": "mu-2qfJi_GuE",
        "outputId": "a0ed3ff0-84c4-4ed2-d244-d5869eb59acc"
      },
      "execution_count": 39,
      "outputs": [
        {
          "output_type": "stream",
          "name": "stdout",
          "text": [
            "[6 7 8 9]\n"
          ]
        }
      ]
    },
    {
      "cell_type": "code",
      "source": [
        "#38. Use slicing to extract a subarray from a 3x3 matrix.\n",
        "matrix = np.array([[1,2,3],[4,5,6],[7,8,9]])\n",
        "\n",
        "#taking 3 elements from last two row\n",
        "sub2 = matrix[:2,:2]\n",
        "sub1 = matrix[-2:,:3]\n",
        "\n",
        "print(sub1)\n",
        "print(sub2)"
      ],
      "metadata": {
        "colab": {
          "base_uri": "https://localhost:8080/"
        },
        "id": "zI_wTy9C_jnj",
        "outputId": "56b71e5d-49a1-47ea-a43f-6d403313a7d4"
      },
      "execution_count": 49,
      "outputs": [
        {
          "output_type": "stream",
          "name": "stdout",
          "text": [
            "[[4 5 6]\n",
            " [7 8 9]]\n",
            "[[1 2]\n",
            " [4 5]]\n"
          ]
        }
      ]
    },
    {
      "cell_type": "code",
      "source": [
        "#39. Get the top 3 maximum values from an array.\n",
        "arr = np.array([1,45,21,7,81,554,3,484,4])\n",
        "\n",
        "#sorting and taking last three numbers from last index are maximum\n",
        "result = np.sort(arr)[-3:]\n",
        "\n",
        "print(result)"
      ],
      "metadata": {
        "colab": {
          "base_uri": "https://localhost:8080/"
        },
        "id": "DEPko98cAOIn",
        "outputId": "c95caa1a-742f-4f1b-e7ca-f4d2fe9c9c15"
      },
      "execution_count": 50,
      "outputs": [
        {
          "output_type": "stream",
          "name": "stdout",
          "text": [
            "[ 81 484 554]\n"
          ]
        }
      ]
    },
    {
      "cell_type": "code",
      "source": [
        "#40. Get the indices of all nonzero elements in an array.\n",
        "arr = np.array([1,0,5,1,0,8,0,548,0,54,4])\n",
        "\n",
        "result = np.where(arr == 0)[0]\n",
        "\n",
        "print(result)"
      ],
      "metadata": {
        "colab": {
          "base_uri": "https://localhost:8080/"
        },
        "id": "KlRDw93ABDVh",
        "outputId": "160ef930-e63c-4fce-ef50-f2a5b47ab77a"
      },
      "execution_count": 51,
      "outputs": [
        {
          "output_type": "stream",
          "name": "stdout",
          "text": [
            "[1 4 6 8]\n"
          ]
        }
      ]
    },
    {
      "cell_type": "markdown",
      "source": [
        "#Logical and Statistical Funstions\n"
      ],
      "metadata": {
        "id": "QG6Kx6wlHY7Q"
      }
    },
    {
      "cell_type": "code",
      "source": [
        "#41. Find the unique values in a NumPy array.\n",
        "arr = np.array([10,5,48,0,5,1,5,15,5,48,2,45,4,1])\n",
        "\n",
        "#reuturn all values that is appeared\n",
        "result = np.unique(arr)\n",
        "print(result)"
      ],
      "metadata": {
        "colab": {
          "base_uri": "https://localhost:8080/"
        },
        "id": "R_vK_J-nHfFs",
        "outputId": "58d04508-3c59-4d11-c0a3-6f983bfbc752"
      },
      "execution_count": 53,
      "outputs": [
        {
          "output_type": "stream",
          "name": "stdout",
          "text": [
            "[ 0  1  2  4  5 10 15 45 48]\n"
          ]
        }
      ]
    },
    {
      "cell_type": "code",
      "source": [
        "#42. Count the occurrence of each unique value in a NumPy array.\n",
        "# Create a NumPy array with duplicate values\n",
        "arr = np.array([10, 20, 30, 10, 40, 20, 50, 30, 10])\n",
        "\n",
        "# Find unique values and their counts\n",
        "unique_values, counts = np.unique(arr, return_counts=True)\n",
        "\n",
        "print(\"Unique Values:\", unique_values)\n",
        "print(\"Counts:\", counts)"
      ],
      "metadata": {
        "colab": {
          "base_uri": "https://localhost:8080/"
        },
        "id": "OLdMWrbXIpJn",
        "outputId": "bd319b85-2ca2-4b51-c8b9-0494cb0b7e34"
      },
      "execution_count": 54,
      "outputs": [
        {
          "output_type": "stream",
          "name": "stdout",
          "text": [
            "Unique Values: [10 20 30 40 50]\n",
            "Counts: [3 2 2 1 1]\n"
          ]
        }
      ]
    },
    {
      "cell_type": "code",
      "source": [
        "#43. Find the maximum and minimum values in a NumPy array.\n",
        "arr = np.array([5,4,2,8,7,5,4,2,1])\n",
        "\n",
        "min = np.sort(arr)[:1]\n",
        "max = np.sort(arr)[-1:]\n",
        "print(min)\n",
        "print(max)"
      ],
      "metadata": {
        "colab": {
          "base_uri": "https://localhost:8080/"
        },
        "id": "Kc6Ja--BI3xY",
        "outputId": "42bca6ff-9ee9-4c03-e585-a50bbba08560"
      },
      "execution_count": 59,
      "outputs": [
        {
          "output_type": "stream",
          "name": "stdout",
          "text": [
            "[1]\n",
            "[8]\n"
          ]
        }
      ]
    },
    {
      "cell_type": "code",
      "source": [
        "#44. Get the index of the maximum value in an array.\n",
        "arr = np.array([10, 20, 30, 10, 40, 20, 50, 30, 10])\n",
        "\n",
        "result_index = np.argmax(arr)\n",
        "print(result_index)\n",
        "print(arr[result_index])"
      ],
      "metadata": {
        "colab": {
          "base_uri": "https://localhost:8080/"
        },
        "id": "lb_MdlbvJYJY",
        "outputId": "56e57a49-40ac-47fd-94dc-8a741033e69b"
      },
      "execution_count": 62,
      "outputs": [
        {
          "output_type": "stream",
          "name": "stdout",
          "text": [
            "6\n",
            "50\n"
          ]
        }
      ]
    },
    {
      "cell_type": "code",
      "source": [
        "#45. Get the index of the minimum value in an array.\n",
        "arr = np.array([10, 20, 30, 10, 40, 20, 50, 30, 10])\n",
        "\n",
        "result_index = np.argmin(arr)\n",
        "print(result_index)\n",
        "print(arr[result_index])"
      ],
      "metadata": {
        "colab": {
          "base_uri": "https://localhost:8080/"
        },
        "id": "QOvr5sVKJs5H",
        "outputId": "149f3ce8-9a7e-4fcb-e2b2-f59878d81cea"
      },
      "execution_count": 63,
      "outputs": [
        {
          "output_type": "stream",
          "name": "stdout",
          "text": [
            "0\n",
            "10\n"
          ]
        }
      ]
    },
    {
      "cell_type": "code",
      "source": [
        "#46. Compute the cumulative sum of a NumPy array.\n",
        "arr = np.array([10,20,30,40])\n",
        "\n",
        "result = np.cumsum(arr)\n",
        "print(result)"
      ],
      "metadata": {
        "colab": {
          "base_uri": "https://localhost:8080/"
        },
        "id": "RPe1JwU8J4Jp",
        "outputId": "02811120-24d4-4829-f2b5-684e3553cc76"
      },
      "execution_count": 65,
      "outputs": [
        {
          "output_type": "stream",
          "name": "stdout",
          "text": [
            "[ 10  30  60 100]\n"
          ]
        }
      ]
    },
    {
      "cell_type": "code",
      "source": [
        "#47. Compute the cumulative product of a NumPy array.\n",
        "arr = np.array([1,2,3,4,5])\n",
        "\n",
        "result = np.cumprod(arr)\n",
        "print(result)"
      ],
      "metadata": {
        "colab": {
          "base_uri": "https://localhost:8080/"
        },
        "id": "THI2FdXeKMTD",
        "outputId": "89c99cc5-cf93-4624-b350-90aec819cb68"
      },
      "execution_count": 66,
      "outputs": [
        {
          "output_type": "stream",
          "name": "stdout",
          "text": [
            "[  1   2   6  24 120]\n"
          ]
        }
      ]
    },
    {
      "cell_type": "code",
      "source": [
        "#48. Check if a NumPy array contains any NaN values.\n",
        "arr = np.array([1,5,4,2,np.nan])\n",
        "\n",
        "result = np.isnan(arr)\n",
        "result2 = np.any(np.isnan(arr))\n",
        "\n",
        "print(result)\n",
        "print(result2)"
      ],
      "metadata": {
        "colab": {
          "base_uri": "https://localhost:8080/"
        },
        "id": "PlDdTsj1KZUp",
        "outputId": "66d434fc-2a97-4536-9edd-a50b4a4b8391"
      },
      "execution_count": 68,
      "outputs": [
        {
          "output_type": "stream",
          "name": "stdout",
          "text": [
            "[False False False False  True]\n",
            "True\n"
          ]
        }
      ]
    },
    {
      "cell_type": "code",
      "source": [
        "#49. Replace NaN values with 0 in a NumPy array.\n",
        "arr = np.array([1,5,14,2,np.nan])\n",
        "\n",
        "result = np.nan_to_num(arr, nan=0)\n",
        "print(result)"
      ],
      "metadata": {
        "colab": {
          "base_uri": "https://localhost:8080/"
        },
        "id": "WdPxntFKK3eF",
        "outputId": "ce6984b2-bfd0-40f1-9966-dfb19b3084c8"
      },
      "execution_count": 72,
      "outputs": [
        {
          "output_type": "stream",
          "name": "stdout",
          "text": [
            "[ 1.  5. 14.  2.  0.]\n"
          ]
        }
      ]
    },
    {
      "cell_type": "code",
      "source": [
        "#50. Count the number of nonzero elements in an array.\n",
        "arr = np.array([1,4,5,1,0,4,5,1])\n",
        "\n",
        "result = np.count_nonzero(arr)\n",
        "print(result)"
      ],
      "metadata": {
        "colab": {
          "base_uri": "https://localhost:8080/"
        },
        "id": "NTt0IXbZLyNs",
        "outputId": "4b17a912-83c7-44eb-8e67-3934dc29de2c"
      },
      "execution_count": 73,
      "outputs": [
        {
          "output_type": "stream",
          "name": "stdout",
          "text": [
            "7\n"
          ]
        }
      ]
    },
    {
      "cell_type": "code",
      "source": [
        "#50. Count the number of zero elements in an array.\n",
        "arr = np.array([1,4,5,1,0,4,5,1])\n",
        "\n",
        "result = np.count_nonzero(arr == 0)\n",
        "print(result)"
      ],
      "metadata": {
        "colab": {
          "base_uri": "https://localhost:8080/"
        },
        "id": "Jbdj0iFJMKon",
        "outputId": "e1072adc-1fcb-4b7c-af29-b76bb982bcc6"
      },
      "execution_count": 74,
      "outputs": [
        {
          "output_type": "stream",
          "name": "stdout",
          "text": [
            "1\n"
          ]
        }
      ]
    }
  ]
}