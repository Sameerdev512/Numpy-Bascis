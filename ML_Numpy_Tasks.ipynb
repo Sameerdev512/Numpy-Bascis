{
  "nbformat": 4,
  "nbformat_minor": 0,
  "metadata": {
    "colab": {
      "provenance": [],
      "toc_visible": true,
      "authorship_tag": "ABX9TyO/7AJF2SwHWsOBuWcAPjjo",
      "include_colab_link": true
    },
    "kernelspec": {
      "name": "python3",
      "display_name": "Python 3"
    },
    "language_info": {
      "name": "python"
    }
  },
  "cells": [
    {
      "cell_type": "markdown",
      "metadata": {
        "id": "view-in-github",
        "colab_type": "text"
      },
      "source": [
        "<a href=\"https://colab.research.google.com/github/Sameerdev512/Numpy-Bascis/blob/main/ML_Numpy_Tasks.ipynb\" target=\"_parent\"><img src=\"https://colab.research.google.com/assets/colab-badge.svg\" alt=\"Open In Colab\"/></a>"
      ]
    },
    {
      "cell_type": "markdown",
      "source": [
        "#Broadcsating and Advance Operation"
      ],
      "metadata": {
        "id": "hOTGXftRqe7F"
      }
    },
    {
      "cell_type": "code",
      "source": [
        "#51. Add a scalar value to all elements of an array.\n",
        "import numpy as np\n",
        "\n",
        "arr = np.array([1, 2, 3, 4, 5])\n",
        "scalar = 10\n",
        "result = arr + scalar\n",
        "print(result)"
      ],
      "metadata": {
        "colab": {
          "base_uri": "https://localhost:8080/"
        },
        "id": "oB3xbUFjqjrS",
        "outputId": "3b2e54d6-9bf2-446a-f698-466d27039c20"
      },
      "execution_count": null,
      "outputs": [
        {
          "output_type": "stream",
          "name": "stdout",
          "text": [
            "[11 12 13 14 15]\n"
          ]
        }
      ]
    },
    {
      "cell_type": "code",
      "source": [
        "#52. Multiply an array by a scalar value.\n",
        "import numpy as np\n",
        "\n",
        "arr = np.array([1, 2, 3, 4, 5])\n",
        "scalar = 10\n",
        "result = arr * scalar\n",
        "print(result)"
      ],
      "metadata": {
        "colab": {
          "base_uri": "https://localhost:8080/"
        },
        "outputId": "6f65a30e-dcdf-4f57-c958-b645d37243c4",
        "id": "8YDs9Da7q2Bg"
      },
      "execution_count": null,
      "outputs": [
        {
          "output_type": "stream",
          "name": "stdout",
          "text": [
            "[10 20 30 40 50]\n"
          ]
        }
      ]
    },
    {
      "cell_type": "code",
      "source": [
        "#53. Divide all elements of an array by a scalar.\n",
        "import numpy as np\n",
        "\n",
        "arr = np.array([1, 2, 3, 4, 5])\n",
        "scalar = 10\n",
        "result = arr / scalar\n",
        "print(result)"
      ],
      "metadata": {
        "colab": {
          "base_uri": "https://localhost:8080/"
        },
        "outputId": "ac54c7e0-aa91-4646-8424-4c151ed0d4d6",
        "id": "raB99wjFq_Bp"
      },
      "execution_count": null,
      "outputs": [
        {
          "output_type": "stream",
          "name": "stdout",
          "text": [
            "[0.1 0.2 0.3 0.4 0.5]\n"
          ]
        }
      ]
    },
    {
      "cell_type": "code",
      "source": [
        "#54. Compute the exponential of all elements in an array.\n",
        "import numpy as np\n",
        "\n",
        "arr = np.array([1, 2, 3, 4, 5])\n",
        "result = np.exp(arr)\n",
        "print(result)"
      ],
      "metadata": {
        "colab": {
          "base_uri": "https://localhost:8080/"
        },
        "outputId": "d509aa27-5227-46cb-ed39-478a9609703f",
        "id": "ULChJYWHrPDj"
      },
      "execution_count": null,
      "outputs": [
        {
          "output_type": "stream",
          "name": "stdout",
          "text": [
            "[  2.71828183   7.3890561   20.08553692  54.59815003 148.4131591 ]\n"
          ]
        }
      ]
    },
    {
      "cell_type": "code",
      "source": [
        "#55. Compute the logarithm of an array\n",
        "import numpy as np\n",
        "\n",
        "arr = np.array([1, 2, 3, 4, 5])\n",
        "result = np.log(arr)\n",
        "print(result)"
      ],
      "metadata": {
        "colab": {
          "base_uri": "https://localhost:8080/"
        },
        "outputId": "85da747d-8187-4f52-e364-0b5625a94e79",
        "id": "nmhOODWmreRQ"
      },
      "execution_count": null,
      "outputs": [
        {
          "output_type": "stream",
          "name": "stdout",
          "text": [
            "[0.         0.69314718 1.09861229 1.38629436 1.60943791]\n"
          ]
        }
      ]
    },
    {
      "cell_type": "code",
      "source": [
        "#56. Compute the sine of all elements in an array.\n",
        "arr = np.array([1,2,3,4,5])\n",
        "\n",
        "result = np.sin(np.radians(arr))\n",
        "print(arr)"
      ],
      "metadata": {
        "colab": {
          "base_uri": "https://localhost:8080/"
        },
        "id": "iUGx33iarrwm",
        "outputId": "b62ef22f-c7aa-426c-9b7a-bc9c3720a1c3"
      },
      "execution_count": null,
      "outputs": [
        {
          "output_type": "stream",
          "name": "stdout",
          "text": [
            "[1 2 3 4 5]\n"
          ]
        }
      ]
    },
    {
      "cell_type": "code",
      "source": [
        "#57. Compute the cosine of all elements in an array.\n",
        "arr = np.array([1,2,3,4,5])\n",
        "\n",
        "result = np.cos(np.radians(arr))\n",
        "print(result)"
      ],
      "metadata": {
        "colab": {
          "base_uri": "https://localhost:8080/"
        },
        "id": "JWh9Ew8MsMaI",
        "outputId": "2ba0685d-eedd-4931-ad7f-1ad6a90bb852"
      },
      "execution_count": null,
      "outputs": [
        {
          "output_type": "stream",
          "name": "stdout",
          "text": [
            "[0.9998477  0.99939083 0.99862953 0.99756405 0.9961947 ]\n"
          ]
        }
      ]
    },
    {
      "cell_type": "code",
      "source": [
        "#58. Compute the square root of all elements in an array.\n",
        "arr = np.array([1,2,3,4,5])\n",
        "\n",
        "result = np.sqrt(arr)\n",
        "print(result)"
      ],
      "metadata": {
        "colab": {
          "base_uri": "https://localhost:8080/"
        },
        "id": "Da_I8fMosbqf",
        "outputId": "79082b00-112f-4812-b186-2ab40154f6fa"
      },
      "execution_count": null,
      "outputs": [
        {
          "output_type": "stream",
          "name": "stdout",
          "text": [
            "[1.         1.41421356 1.73205081 2.         2.23606798]\n"
          ]
        }
      ]
    },
    {
      "cell_type": "code",
      "source": [
        "#59. Compute the absolute value of all elements in an array.\n",
        "arr = np.array([-1,-2,-3,-4,-5])\n",
        "\n",
        "result = np.abs(arr)\n",
        "print(result)\n"
      ],
      "metadata": {
        "colab": {
          "base_uri": "https://localhost:8080/"
        },
        "id": "PYPHgGQnsghX",
        "outputId": "2df4d91a-d428-48ad-fac1-29a7df129f20"
      },
      "execution_count": null,
      "outputs": [
        {
          "output_type": "stream",
          "name": "stdout",
          "text": [
            "[1 2 3 4 5]\n"
          ]
        }
      ]
    },
    {
      "cell_type": "code",
      "source": [
        "#60. Find the element-wise maximum of two arrays.\n",
        "arr1 = np.array([1,2,3,4,5])\n",
        "arr2 = np.array([3,5,4,2,8])\n",
        "\n",
        "result = np.maximum(arr1,arr2)\n",
        "print(result)"
      ],
      "metadata": {
        "colab": {
          "base_uri": "https://localhost:8080/"
        },
        "id": "MKxdshjytFdN",
        "outputId": "862dbf37-71b5-48ee-a198-35bdfe240c9b"
      },
      "execution_count": null,
      "outputs": [
        {
          "output_type": "stream",
          "name": "stdout",
          "text": [
            "[3 5 4 4 8]\n"
          ]
        }
      ]
    },
    {
      "cell_type": "markdown",
      "source": [],
      "metadata": {
        "id": "mpU2KKAVtPDE"
      }
    },
    {
      "cell_type": "markdown",
      "source": [
        "#Searching and Sorting\n"
      ],
      "metadata": {
        "id": "TsD8aOA3uZ4z"
      }
    },
    {
      "cell_type": "code",
      "source": [
        "#61. Sort a NumPy array in ascending order.\n",
        "import numpy as np\n",
        "arr = np.array([4,7,5,9,2,3,4])\n",
        "\n",
        "result = np.sort(arr)\n",
        "print(result)"
      ],
      "metadata": {
        "id": "SEu_WV15ucSt",
        "colab": {
          "base_uri": "https://localhost:8080/"
        },
        "outputId": "c82356e1-a7f0-4785-f533-e178251375c3"
      },
      "execution_count": null,
      "outputs": [
        {
          "output_type": "stream",
          "name": "stdout",
          "text": [
            "[2 3 4 4 5 7 9]\n"
          ]
        }
      ]
    },
    {
      "cell_type": "code",
      "source": [
        "#62. Sort a NumPy array in descending order.\n",
        "import numpy as np\n",
        "arr = np.array([4,7,5,9,2,3,4])\n",
        "\n",
        "result = np.sort(arr)[::-1]\n",
        "print(result)"
      ],
      "metadata": {
        "id": "vp16wwBmvbNg",
        "colab": {
          "base_uri": "https://localhost:8080/"
        },
        "outputId": "5b985bab-061f-4cde-f4df-9ae01aa9a2bf"
      },
      "execution_count": null,
      "outputs": [
        {
          "output_type": "stream",
          "name": "stdout",
          "text": [
            "[9 7 5 4 4 3 2]\n"
          ]
        }
      ]
    },
    {
      "cell_type": "code",
      "source": [
        "#63. Sort a 2D NumPy array along a specific axis.\n",
        "import numpy as np\n",
        "\n",
        "arr = np.array([[5, 2, 9],\n",
        "                [1, 7, 6],\n",
        "                [8, 3, 4]])\n",
        "\n",
        "# Sort along axis=0 (column-wise sorting)\n",
        "sorted_col = np.sort(arr, axis=0)\n",
        "print(\"Sorted along columns:\\n\", sorted_col)\n",
        "\n",
        "# Sort along axis=1 (row-wise sorting)\n",
        "sorted_row = np.sort(arr, axis=1)\n",
        "print(\"Sorted along rows:\\n\", sorted_row)\n",
        "print(arr.shape)"
      ],
      "metadata": {
        "colab": {
          "base_uri": "https://localhost:8080/"
        },
        "id": "C7zLt1OxwG68",
        "outputId": "1a8a0530-382d-49df-ebf1-1e0700b1ac16"
      },
      "execution_count": null,
      "outputs": [
        {
          "output_type": "stream",
          "name": "stdout",
          "text": [
            "Sorted along columns:\n",
            " [[1 2 4]\n",
            " [5 3 6]\n",
            " [8 7 9]]\n",
            "Sorted along rows:\n",
            " [[2 5 9]\n",
            " [1 6 7]\n",
            " [3 4 8]]\n",
            "(3, 3)\n"
          ]
        }
      ]
    },
    {
      "cell_type": "code",
      "source": [
        "#64. Find the k smallest values in a NumPy array.\n",
        "arr = np.array([2,4,5,9,6,8,7])\n",
        "k = 3\n",
        "\n",
        "# k smallest values\n",
        "result = np.sort(arr)[:k]\n",
        "print(result)"
      ],
      "metadata": {
        "colab": {
          "base_uri": "https://localhost:8080/"
        },
        "id": "-9237kQkw1qj",
        "outputId": "23b8fede-700e-4e8d-8ae4-3b4cd091931f"
      },
      "execution_count": null,
      "outputs": [
        {
          "output_type": "stream",
          "name": "stdout",
          "text": [
            "[2 4 5]\n"
          ]
        }
      ]
    },
    {
      "cell_type": "code",
      "source": [
        "#65. Find the k largest values in a NumPy array.\n",
        "arr = np.array([2,4,5,9,6,8,7])\n",
        "k = 3\n",
        "\n",
        "#last k largest values (sorting array in descending)\n",
        "result = np.sort(arr)[::-1][:3]\n",
        "print(result)"
      ],
      "metadata": {
        "colab": {
          "base_uri": "https://localhost:8080/"
        },
        "id": "39iz8pXoxnui",
        "outputId": "a03337a9-2511-44a6-ffb4-6a81fc55b92f"
      },
      "execution_count": null,
      "outputs": [
        {
          "output_type": "stream",
          "name": "stdout",
          "text": [
            "[9 8 7]\n"
          ]
        }
      ]
    },
    {
      "cell_type": "code",
      "source": [
        "#66. Use argsort() to get the sorted indices of an array.\n",
        "arr = np.array([2,4,5,9,6,8,7])\n",
        "\n",
        "result = np.argsort(arr)\n",
        "print(result)"
      ],
      "metadata": {
        "colab": {
          "base_uri": "https://localhost:8080/"
        },
        "id": "uDIKAyoryAIq",
        "outputId": "326d6a37-ea81-4409-aa47-771e328ee4f9"
      },
      "execution_count": null,
      "outputs": [
        {
          "output_type": "stream",
          "name": "stdout",
          "text": [
            "[0 1 2 4 6 5 3]\n"
          ]
        }
      ]
    },
    {
      "cell_type": "code",
      "source": [
        "#67. Search for a specific value in an array and return its index.\n",
        "arr = np.array([2,4,5,9,6,8,7])\n",
        "val = 4\n",
        "\n",
        "result = np.where(arr == val)[0][0]\n",
        "print(result)"
      ],
      "metadata": {
        "colab": {
          "base_uri": "https://localhost:8080/"
        },
        "id": "XJQd5Sn3yQaF",
        "outputId": "b0abb7ea-0da7-4917-fbc6-868cbf15ae55"
      },
      "execution_count": null,
      "outputs": [
        {
          "output_type": "stream",
          "name": "stdout",
          "text": [
            "1\n"
          ]
        }
      ]
    },
    {
      "cell_type": "code",
      "source": [
        "#68. Find the first occurrence of an element greater than a given value.\n",
        "arr = np.array([2,5,9,6,8,7,4])\n",
        "val = 4\n",
        "\n",
        "result = np.where(arr > val)[0][0]\n",
        "print(result)"
      ],
      "metadata": {
        "colab": {
          "base_uri": "https://localhost:8080/"
        },
        "id": "47YYNfCry23C",
        "outputId": "f11439f5-e821-45f0-f68c-4baf31c7d9e1"
      },
      "execution_count": null,
      "outputs": [
        {
          "output_type": "stream",
          "name": "stdout",
          "text": [
            "1\n"
          ]
        }
      ]
    },
    {
      "cell_type": "code",
      "source": [
        "#69. Use where() to replace values based on a condition.\n",
        "#replace 5 to 0\n",
        "arr = np.array([2,5,9,6,8,7,5,4])\n",
        "\n",
        "arr[arr == 5] = 0\n",
        "print(arr)"
      ],
      "metadata": {
        "colab": {
          "base_uri": "https://localhost:8080/"
        },
        "id": "95iWMTvSzIAk",
        "outputId": "35d61450-b835-41f4-bcb8-a3e8439a19e2"
      },
      "execution_count": null,
      "outputs": [
        {
          "output_type": "stream",
          "name": "stdout",
          "text": [
            "[2 0 9 6 8 7 0 4]\n"
          ]
        }
      ]
    },
    {
      "cell_type": "code",
      "source": [
        "#70. Count the occurrences of a specific value in an array.\n",
        "arr = np.array([2,5,9,6,8,7,5,4])\n",
        "\n",
        "result = np.count_nonzero(arr == 5)\n",
        "print(result)"
      ],
      "metadata": {
        "colab": {
          "base_uri": "https://localhost:8080/"
        },
        "id": "adWDeJ8szncH",
        "outputId": "0db8f188-840e-4eac-8201-b851f50bdafe"
      },
      "execution_count": null,
      "outputs": [
        {
          "output_type": "stream",
          "name": "stdout",
          "text": [
            "2\n"
          ]
        }
      ]
    },
    {
      "cell_type": "markdown",
      "source": [
        "#Linear Algebra Operations\n"
      ],
      "metadata": {
        "id": "1N9QD_Tr_c2m"
      }
    },
    {
      "cell_type": "code",
      "source": [
        "#71. Compute the determinant of a square matrix.\n",
        "import numpy as np\n",
        "matrix = np.array([[1,2,3],[4,5,6],[7,8,9]])\n",
        "\n",
        "result = np.linalg.det(matrix)\n",
        "print(result)"
      ],
      "metadata": {
        "colab": {
          "base_uri": "https://localhost:8080/"
        },
        "id": "QWvK9jR0_iCK",
        "outputId": "ea12cbde-7918-4750-8998-c39f0480ad00"
      },
      "execution_count": null,
      "outputs": [
        {
          "output_type": "stream",
          "name": "stdout",
          "text": [
            "0.0\n"
          ]
        }
      ]
    },
    {
      "cell_type": "code",
      "source": [
        "#72. Compute the reverse of a square matrix.\n",
        "import numpy as np\n",
        "matrix = np.array([[1,2,3],[4,5,6],[7,8,9]])\n",
        "\n",
        "result = np.flip(matrix)\n",
        "print(result)"
      ],
      "metadata": {
        "colab": {
          "base_uri": "https://localhost:8080/"
        },
        "id": "tlBAlgqxA-oZ",
        "outputId": "260ebbab-d758-4d20-976c-e2bf7aea82b6"
      },
      "execution_count": null,
      "outputs": [
        {
          "output_type": "stream",
          "name": "stdout",
          "text": [
            "[[9 8 7]\n",
            " [6 5 4]\n",
            " [3 2 1]]\n"
          ]
        }
      ]
    },
    {
      "cell_type": "code",
      "source": [
        "#73. Compute the rank of a square matrix.\n",
        "import numpy as np\n",
        "matrix = np.array([[1,2,3],[4,5,6],[7,8,9]])\n",
        "\n",
        "result = np.linalg.matrix_rank(matrix)\n",
        "print(result)"
      ],
      "metadata": {
        "colab": {
          "base_uri": "https://localhost:8080/"
        },
        "id": "nujAdyytBG1F",
        "outputId": "682a19de-56d7-4dc0-9484-af87b3003b79"
      },
      "execution_count": null,
      "outputs": [
        {
          "output_type": "stream",
          "name": "stdout",
          "text": [
            "2\n"
          ]
        }
      ]
    },
    {
      "cell_type": "code",
      "source": [
        "#74. Compute the eigen value of a square matrix.\n",
        "import numpy as np\n",
        "matrix = np.array([[1,2,3],[4,5,6],[7,8,9]])\n",
        "\n",
        "#reutrns eigenvalue and eigenvectors\n",
        "eigenvalue,eigenvector = np.linalg.eig(matrix)\n",
        "print(eigenvalue)"
      ],
      "metadata": {
        "colab": {
          "base_uri": "https://localhost:8080/"
        },
        "id": "Y5xJVcANBxwD",
        "outputId": "359ab92e-c7ea-40b2-aea0-a54b64fd46e6"
      },
      "execution_count": null,
      "outputs": [
        {
          "output_type": "stream",
          "name": "stdout",
          "text": [
            "[ 1.61168440e+01 -1.11684397e+00 -1.30367773e-15]\n"
          ]
        }
      ]
    },
    {
      "cell_type": "code",
      "source": [
        "#75. Compute the eigen vector of a square matrix.\n",
        "import numpy as np\n",
        "matrix = np.array([[1,2,3],[4,5,6],[7,8,9]])\n",
        "\n",
        "#reutrns eigenvalue and eigenvectors\n",
        "eigenvalue,eigenvector = np.linalg.eig(matrix)\n",
        "print(eigenvector)"
      ],
      "metadata": {
        "colab": {
          "base_uri": "https://localhost:8080/"
        },
        "id": "M3Ftega_B_au",
        "outputId": "92725058-7de9-4ffb-e974-71446c0c09f3"
      },
      "execution_count": null,
      "outputs": [
        {
          "output_type": "stream",
          "name": "stdout",
          "text": [
            "[[-0.23197069 -0.78583024  0.40824829]\n",
            " [-0.52532209 -0.08675134 -0.81649658]\n",
            " [-0.8186735   0.61232756  0.40824829]]\n"
          ]
        }
      ]
    },
    {
      "cell_type": "code",
      "source": [
        "#76. Compute the single value decomposition of a square matrix.\n",
        "import numpy as np\n",
        "matrix = np.array([[1,2,3],[4,5,6],[7,8,9]])\n",
        "\n",
        "result = np.linalg.svd(matrix)\n",
        "print(result)"
      ],
      "metadata": {
        "colab": {
          "base_uri": "https://localhost:8080/"
        },
        "id": "0iN-pqFpCOUk",
        "outputId": "b150b198-8296-4ea3-8036-66030d7980ec"
      },
      "execution_count": null,
      "outputs": [
        {
          "output_type": "stream",
          "name": "stdout",
          "text": [
            "SVDResult(U=array([[-0.21483724,  0.88723069,  0.40824829],\n",
            "       [-0.52058739,  0.24964395, -0.81649658],\n",
            "       [-0.82633754, -0.38794278,  0.40824829]]), S=array([1.68481034e+01, 1.06836951e+00, 4.41842475e-16]), Vh=array([[-0.47967118, -0.57236779, -0.66506441],\n",
            "       [-0.77669099, -0.07568647,  0.62531805],\n",
            "       [-0.40824829,  0.81649658, -0.40824829]]))\n"
          ]
        }
      ]
    },
    {
      "cell_type": "code",
      "source": [
        "#77. Solve a system of linear equations using NumPy.\n",
        "import numpy as np\n",
        "\n",
        "# Define the coefficient matrix A and the constants vector b\n",
        "A = np.array([[3, 2],\n",
        "              [4, 1]])\n",
        "\n",
        "b = np.array([5, 6])\n",
        "\n",
        "# Solve for x (the unknowns)\n",
        "x = np.linalg.solve(A, b)\n",
        "\n",
        "# Print the solution\n",
        "print(\"Solution: x =\", x)\n"
      ],
      "metadata": {
        "colab": {
          "base_uri": "https://localhost:8080/"
        },
        "id": "2-Qxe-U6CwKG",
        "outputId": "519cd5a8-82f3-4e1e-b3ca-147e4c02c31e"
      },
      "execution_count": null,
      "outputs": [
        {
          "output_type": "stream",
          "name": "stdout",
          "text": [
            "Solution: x = [1.4 0.4]\n"
          ]
        }
      ]
    },
    {
      "cell_type": "code",
      "source": [
        "#78. Compute the Frobenius norm of a matrix.\n",
        "import numpy as np\n",
        "\n",
        "# Define the matrix A\n",
        "A = np.array([[1, 2],\n",
        "              [3, 4]])\n",
        "\n",
        "# Compute the Frobenius norm\n",
        "frobenius_norm = np.linalg.norm(A, 'fro')\n",
        "\n",
        "# Print the result\n",
        "print(f\"The Frobenius norm of the matrix is: {frobenius_norm}\")\n"
      ],
      "metadata": {
        "colab": {
          "base_uri": "https://localhost:8080/"
        },
        "id": "LgTXqa4JC-zg",
        "outputId": "eb4e5fb6-f4d4-47a8-83f6-26793e56a450"
      },
      "execution_count": null,
      "outputs": [
        {
          "output_type": "stream",
          "name": "stdout",
          "text": [
            "The Frobenius norm of the matrix is: 5.477225575051661\n"
          ]
        }
      ]
    },
    {
      "cell_type": "code",
      "source": [
        "#79. Compute the trace of a matrix.\n",
        "import numpy as np\n",
        "\n",
        "# Define the matrix A\n",
        "A = np.array([[1, 2, 3],\n",
        "              [4, 5, 6],\n",
        "              [7, 8, 9]])\n",
        "\n",
        "# Compute the trace of the matrix\n",
        "trace = np.trace(A)\n",
        "\n",
        "# Print the result\n",
        "print(f\"The trace of the matrix is: {trace}\")\n"
      ],
      "metadata": {
        "colab": {
          "base_uri": "https://localhost:8080/"
        },
        "id": "yWXBusoLDFFY",
        "outputId": "93f6ea2a-cd3e-4358-e4a9-6c5e2ee03c76"
      },
      "execution_count": null,
      "outputs": [
        {
          "output_type": "stream",
          "name": "stdout",
          "text": [
            "The trace of the matrix is: 15\n"
          ]
        }
      ]
    },
    {
      "cell_type": "code",
      "source": [
        "#80. Perform Cholesky decomposition of a positive-definite matrix.\n",
        "import numpy as np\n",
        "\n",
        "# Define the positive-definite matrix A\n",
        "A = np.array([[4, 12, -16],\n",
        "              [12, 37, -43],\n",
        "              [-16, -43, 98]])\n",
        "\n",
        "# Compute the Cholesky decomposition\n",
        "L = np.linalg.cholesky(A)\n",
        "\n",
        "# Print the result\n",
        "print(\"Cholesky Decomposition (L matrix):\")\n",
        "print(L)\n"
      ],
      "metadata": {
        "colab": {
          "base_uri": "https://localhost:8080/"
        },
        "id": "hAUIP9hKDQaK",
        "outputId": "788c46d3-2ec5-4515-bb17-1fb69cce88e4"
      },
      "execution_count": null,
      "outputs": [
        {
          "output_type": "stream",
          "name": "stdout",
          "text": [
            "Cholesky Decomposition (L matrix):\n",
            "[[ 2.  0.  0.]\n",
            " [ 6.  1.  0.]\n",
            " [-8.  5.  3.]]\n"
          ]
        }
      ]
    },
    {
      "cell_type": "markdown",
      "source": [
        "#Random Number Generation\n"
      ],
      "metadata": {
        "id": "QMFJfppzDXNS"
      }
    },
    {
      "cell_type": "code",
      "source": [
        "#81. Generate a random integer between 10 and 50.\n",
        "import numpy as np\n",
        "\n",
        "result = np.random.randint(10,50)\n",
        "print(result)"
      ],
      "metadata": {
        "colab": {
          "base_uri": "https://localhost:8080/"
        },
        "id": "tZ45lPBwDaP1",
        "outputId": "f03392d3-6c44-44e9-8510-daa53cd7704e"
      },
      "execution_count": null,
      "outputs": [
        {
          "output_type": "stream",
          "name": "stdout",
          "text": [
            "30\n"
          ]
        }
      ]
    },
    {
      "cell_type": "code",
      "source": [
        "#82. Generate an array of 5 random integers between 1 and 100.\n",
        "arr = np.random.randint(1,100,size=5)\n",
        "print(arr)"
      ],
      "metadata": {
        "colab": {
          "base_uri": "https://localhost:8080/"
        },
        "id": "u9gzHoJTD0tv",
        "outputId": "bb7ec8f3-e351-4f99-e542-4c4ce81ea4d8"
      },
      "execution_count": null,
      "outputs": [
        {
          "output_type": "stream",
          "name": "stdout",
          "text": [
            "[62 81 45  8 32]\n"
          ]
        }
      ]
    },
    {
      "cell_type": "code",
      "source": [
        "#83. Generate an array of random numbers following a normal distribution.\n",
        "arr = np.random.normal(size = 5)\n",
        "print(arr)"
      ],
      "metadata": {
        "colab": {
          "base_uri": "https://localhost:8080/"
        },
        "id": "7L9jSMnDEUkP",
        "outputId": "7787c007-a134-4aa5-fb7b-3328d335d51a"
      },
      "execution_count": null,
      "outputs": [
        {
          "output_type": "stream",
          "name": "stdout",
          "text": [
            "[-0.66682551 -0.62062794  0.84209883  1.30111422 -0.22937519]\n"
          ]
        }
      ]
    },
    {
      "cell_type": "code",
      "source": [
        "#84. Generate a 3x3 matrix with random values between -1 and 1.\n",
        "matrix = np.random.uniform(-1,1,(3,3))\n",
        "print(matrix)"
      ],
      "metadata": {
        "colab": {
          "base_uri": "https://localhost:8080/"
        },
        "id": "a4lRiwSxEzj6",
        "outputId": "55d6e254-c371-4865-a6de-82130e72f330"
      },
      "execution_count": null,
      "outputs": [
        {
          "output_type": "stream",
          "name": "stdout",
          "text": [
            "[[ 0.41246971 -0.1019212  -0.7754414 ]\n",
            " [-0.12382515 -0.52843832  0.89300629]\n",
            " [-0.72567464 -0.80236906 -0.64759529]]\n"
          ]
        }
      ]
    },
    {
      "cell_type": "code",
      "source": [
        "#85. Shuffle the elements of a NumPy array randomly.\n",
        "#works on 1-d array\n",
        "arr = np.array([1,2,3,4,5,6,7,8,9])\n",
        "\n",
        "np.random.shuffle(arr)\n",
        "print(arr)"
      ],
      "metadata": {
        "colab": {
          "base_uri": "https://localhost:8080/"
        },
        "id": "gQhPWIm9FLs-",
        "outputId": "b013df91-5ab3-45dd-a462-887b4f4490c5"
      },
      "execution_count": null,
      "outputs": [
        {
          "output_type": "stream",
          "name": "stdout",
          "text": [
            "[8 4 7 1 5 3 2 6 9]\n"
          ]
        }
      ]
    },
    {
      "cell_type": "code",
      "source": [
        "#87. Sample 5 random elements from a given array.\n",
        "arr = [10,20,30,40,50,60,70,80,90]\n",
        "\n",
        "#replace=False means duplicate element can't be repeated\n",
        "result = np.random.choice(arr,5,replace=False)\n",
        "print(result)"
      ],
      "metadata": {
        "colab": {
          "base_uri": "https://localhost:8080/"
        },
        "id": "vcWOoc3qGOnI",
        "outputId": "afa0c4e9-cfaa-421a-c8d0-0f5a0f8dfc87"
      },
      "execution_count": null,
      "outputs": [
        {
          "output_type": "stream",
          "name": "stdout",
          "text": [
            "[30 60 60 10 70]\n",
            "[10, 20, 30, 40, 50, 60, 70, 80, 90]\n"
          ]
        }
      ]
    },
    {
      "cell_type": "code",
      "source": [
        "#88. Generate a random permutation of numbers from 0 to 9.\n",
        "result = np.random.permutation(10)\n",
        "print(result)"
      ],
      "metadata": {
        "colab": {
          "base_uri": "https://localhost:8080/"
        },
        "id": "JH2T0iJyGtIA",
        "outputId": "90f3bff2-f062-4b7e-f6f4-6a26c808d457"
      },
      "execution_count": null,
      "outputs": [
        {
          "output_type": "stream",
          "name": "stdout",
          "text": [
            "[8 2 0 9 5 1 3 4 6 7]\n"
          ]
        }
      ]
    },
    {
      "cell_type": "code",
      "source": [
        "#89. Generate a 2D array of random integers with a specific shape.\n",
        "import numpy as np\n",
        "\n",
        "# Generate a 2D array of random integers with 3 rows and 4 columns\n",
        "random_array = np.random.randint(10, 51, size=(3, 4))\n",
        "\n",
        "# Print the 2D array\n",
        "print(\"2D array of random integers:\\n\", random_array)\n"
      ],
      "metadata": {
        "colab": {
          "base_uri": "https://localhost:8080/"
        },
        "id": "Z_4ifr-NHX98",
        "outputId": "34111a87-e89d-473e-a0fb-81cabbf6ee17"
      },
      "execution_count": null,
      "outputs": [
        {
          "output_type": "stream",
          "name": "stdout",
          "text": [
            "2D array of random integers:\n",
            " [[24 43 38 22]\n",
            " [22 18 23 47]\n",
            " [14 23 48 43]]\n"
          ]
        }
      ]
    },
    {
      "cell_type": "code",
      "source": [
        "#90. Create a random matrix and compute its covariance.\n",
        "import numpy as np\n",
        "\n",
        "# Generate a random matrix with 5 rows and 3 columns\n",
        "random_matrix = np.random.randint(1,50,(5,3))\n",
        "\n",
        "# Compute the covariance matrix\n",
        "cov_matrix = np.cov(random_matrix, rowvar=False)\n",
        "\n",
        "# Print the random matrix and its covariance matrix\n",
        "print(\"Random Matrix:\\n\", random_matrix)\n",
        "print(\"\\nCovariance Matrix:\\n\", cov_matrix)\n"
      ],
      "metadata": {
        "colab": {
          "base_uri": "https://localhost:8080/"
        },
        "id": "2isLuQGDHpSb",
        "outputId": "90e0062f-77e7-4079-edd9-cb460ed1a78d"
      },
      "execution_count": null,
      "outputs": [
        {
          "output_type": "stream",
          "name": "stdout",
          "text": [
            "Random Matrix:\n",
            " [[41 33 24]\n",
            " [37 34 37]\n",
            " [11 14 25]\n",
            " [19 40 36]\n",
            " [32  6 45]]\n",
            "\n",
            "Covariance Matrix:\n",
            " [[159.    40.25  19.  ]\n",
            " [ 40.25 212.8  -32.95]\n",
            " [ 19.   -32.95  78.3 ]]\n"
          ]
        }
      ]
    },
    {
      "cell_type": "code",
      "source": [],
      "metadata": {
        "id": "H3V1v3awHp1Z"
      },
      "execution_count": null,
      "outputs": []
    }
  ]
}